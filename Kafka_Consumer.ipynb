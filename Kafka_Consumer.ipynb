{
 "cells": [
  {
   "cell_type": "code",
   "execution_count": 6,
   "id": "f9ac994d",
   "metadata": {},
   "outputs": [],
   "source": [
    "# import the required packages\n",
    "from kafka import KafkaConsumer\n",
    "from time import sleep\n",
    "from json import dumps, loads\n",
    "import json\n",
    "from s3fs import S3FileSystem # this is to send the file from local driver s3 "
   ]
  },
  {
   "cell_type": "code",
   "execution_count": 2,
   "id": "454abd32",
   "metadata": {},
   "outputs": [],
   "source": [
    "# creating kafka consumer\n",
    "# deserializing and decoding the data from producer\n",
    "consumer = KafkaConsumer('demo_test', \n",
    "                        bootstrap_servers=['PublicIP:9092'],\n",
    "                        value_deserializer=lambda x: loads(x.decode('utf-8')))"
   ]
  },
  {
   "cell_type": "code",
   "execution_count": null,
   "id": "2e06c840",
   "metadata": {},
   "outputs": [],
   "source": [
    "# printing the data in consumer\n",
    "# for c in consumer:\n",
    "#     print(c.value)"
   ]
  },
  {
   "cell_type": "code",
   "execution_count": 8,
   "id": "86dc772d",
   "metadata": {},
   "outputs": [],
   "source": [
    "# creating an s3 object\n",
    "s3 = S3FileSystem()"
   ]
  },
  {
   "cell_type": "code",
   "execution_count": null,
   "id": "3f08aead",
   "metadata": {},
   "outputs": [],
   "source": [
    "for count, i in enumerate(consumer):\n",
    "    with s3.open(\"s3://kafka-stock-market-data-bucket/stock_market_{}.json\".format(count), 'w') as file:\n",
    "        json.dump(i.value, file)   "
   ]
  },
  {
   "cell_type": "code",
   "execution_count": null,
   "id": "b055b1ef",
   "metadata": {},
   "outputs": [],
   "source": []
  }
 ],
 "metadata": {
  "kernelspec": {
   "display_name": "Python 3 (ipykernel)",
   "language": "python",
   "name": "python3"
  },
  "language_info": {
   "codemirror_mode": {
    "name": "ipython",
    "version": 3
   },
   "file_extension": ".py",
   "mimetype": "text/x-python",
   "name": "python",
   "nbconvert_exporter": "python",
   "pygments_lexer": "ipython3",
   "version": "3.9.7"
  }
 },
 "nbformat": 4,
 "nbformat_minor": 5
}
